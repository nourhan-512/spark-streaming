{
 "cells": [
  {
   "cell_type": "code",
   "execution_count": 1,
   "metadata": {},
   "outputs": [
    {
     "name": "stderr",
     "output_type": "stream",
     "text": [
      "C:\\Program Files\\spark\\python\\pyspark\\streaming\\context.py:72: FutureWarning: DStream is deprecated as of Spark 3.4.0. Migrate to Structured Streaming.\n",
      "  warnings.warn(\n"
     ]
    },
    {
     "name": "stdout",
     "output_type": "stream",
     "text": [
      "[]\n",
      "Word count: 0\n",
      "[]\n",
      "Word count: 0\n",
      "[]\n",
      "Word count: 0\n",
      "[]\n",
      "Word count: 0\n"
     ]
    }
   ],
   "source": [
    "import findspark\n",
    "findspark.init()\n",
    "import pyspark\n",
    "from pyspark.streaming import StreamingContext\n",
    "from pyspark import SparkContext\n",
    "\n",
    "batch_duration = 6\n",
    "sc = SparkContext(appName=\"spark streaming\")\n",
    "ssc = StreamingContext(sc, batch_duration)\n",
    "\n",
    "lines = ssc.textFileStream(\"./streaming.txt\")  # Note the use of directory and wildcard\n",
    "\n",
    "words = lines.flatMap(lambda line: line.split(\" \"))  # Split lines into words\n",
    "\n",
    "# Apply an action on the DStream to print the output\n",
    "words.foreachRDD(lambda rdd: print(rdd.collect()))\n",
    "words.foreachRDD(lambda rdd: print(\"Word count:\", rdd.count()))\n",
    "ssc.start()  # Start the streaming computation\n",
    "ssc.awaitTerminationOrTimeout(30)  # Wait for the streaming computation to finish or timeout after 30 seconds\n",
    "\n",
    "ssc.stop()  # Stop the streaming context what should the output be"
   ]
  }
 ],
 "metadata": {
  "kernelspec": {
   "display_name": "Python 3",
   "language": "python",
   "name": "python3"
  },
  "language_info": {
   "codemirror_mode": {
    "name": "ipython",
    "version": 3
   },
   "file_extension": ".py",
   "mimetype": "text/x-python",
   "name": "python",
   "nbconvert_exporter": "python",
   "pygments_lexer": "ipython3",
   "version": "3.11.4"
  },
  "orig_nbformat": 4
 },
 "nbformat": 4,
 "nbformat_minor": 2
}
