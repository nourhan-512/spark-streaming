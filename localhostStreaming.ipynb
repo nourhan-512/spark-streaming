{
 "cells": [
  {
   "cell_type": "code",
   "execution_count": 1,
   "metadata": {},
   "outputs": [
    {
     "name": "stderr",
     "output_type": "stream",
     "text": [
      "C:\\Users\\norha\\AppData\\Local\\Packages\\PythonSoftwareFoundation.Python.3.11_qbz5n2kfra8p0\\LocalCache\\local-packages\\Python311\\site-packages\\pyspark\\streaming\\context.py:72: FutureWarning: DStream is deprecated as of Spark 3.4.0. Migrate to Structured Streaming.\n",
      "  warnings.warn(\n"
     ]
    }
   ],
   "source": [
    "from pyspark.sql import SparkSession\n",
    "from pyspark.streaming import StreamingContext\n",
    "import matplotlib.pyplot as plt\n",
    "\n",
    "# إعداد الجلسة\n",
    "spark = SparkSession.builder \\\n",
    "    .appName(\"StreamingExample\") \\\n",
    "    .master(\"local[*]\") \\\n",
    "    .getOrCreate()\n",
    "\n",
    "# إعداد الـ StreamingContext مع فترة تحديث بالثواني\n",
    "ssc = StreamingContext(spark.sparkContext, batchDuration=1)\n",
    "\n",
    "# إنشاء DStream من البيانات المتدفقة\n",
    "lines = ssc.socketTextStream(\"localhost\", 3000)  # تغيير مصدر البيانات حسب الحاجة\n",
    "\n",
    "# معالجة البيانات وإنشاء رسم بياني\n",
    "def process_data(rdd):\n",
    "    if not rdd.isEmpty():\n",
    "        data = rdd.collect()\n",
    "        # هنا يمكنك معالجة البيانات كما تريد وإنشاء رسم بياني باستخدام Matplotlib\n",
    "\n",
    "# تطبيق دالة المعالجة على الـ DStream\n",
    "lines.foreachRDD(process_data)\n",
    "\n",
    "# بدء التشغيل\n",
    "ssc.start()\n",
    "\n",
    "# الانتظار حتى يتم إيقاف الـ StreamingContext\n",
    "ssc.awaitTermination()\n"
   ]
  }
 ],
 "metadata": {
  "kernelspec": {
   "display_name": "Python 3",
   "language": "python",
   "name": "python3"
  },
  "language_info": {
   "codemirror_mode": {
    "name": "ipython",
    "version": 3
   },
   "file_extension": ".py",
   "mimetype": "text/x-python",
   "name": "python",
   "nbconvert_exporter": "python",
   "pygments_lexer": "ipython3",
   "version": "3.11.4"
  },
  "orig_nbformat": 4
 },
 "nbformat": 4,
 "nbformat_minor": 2
}
