{
 "cells": [
  {
   "cell_type": "code",
   "execution_count": 1,
   "metadata": {},
   "outputs": [
    {
     "name": "stderr",
     "output_type": "stream",
     "text": [
      "C:\\Users\\norha\\AppData\\Local\\Packages\\PythonSoftwareFoundation.Python.3.11_qbz5n2kfra8p0\\LocalCache\\local-packages\\Python311\\site-packages\\pyspark\\streaming\\context.py:72: FutureWarning: DStream is deprecated as of Spark 3.4.0. Migrate to Structured Streaming.\n",
      "  warnings.warn(\n"
     ]
    },
    {
     "data": {
      "image/png": "[encoded data removed]",
      "text/plain": [
       "<Figure size 640x480 with 1 Axes>"
      ]
     },
     "metadata": {},
     "output_type": "display_data"
    },
    {
     "name": "stdout",
     "output_type": "stream",
     "text": [
      "hello\n"
     ]
    }
   ],
   "source": [
    "from pyspark import SparkContext\n",
    "from pyspark.streaming import StreamingContext\n",
    "import matplotlib.pyplot as plt\n",
    "\n",
    "# Initialize Spark and StreamingContext\n",
    "batch_duration=3\n",
    "sc = SparkContext(appName=\"spark_streaming\")\n",
    "ssc = StreamingContext(sc, batch_duration)\n",
    "\n",
    "# Function to process and visualize data\n",
    "def visualize_word_count(word_count):\n",
    "    plt.bar(word_count.keys(), word_count.values())\n",
    "    plt.show()\n",
    "    print (\"hello\")\n",
    "# Simulate data (replace with actual data retrieval)\n",
    "sample_word_count = {'apple': 5, 'banana': 3, 'orange': 8}\n",
    "\n",
    "# Call the visualization function\n",
    "visualize_word_count(sample_word_count)\n"
   ]
  }
 ],
 "metadata": {
  "kernelspec": {
   "display_name": "Python 3",
   "language": "python",
   "name": "python3"
  },
  "language_info": {
   "codemirror_mode": {
    "name": "ipython",
    "version": 3
   },
   "file_extension": ".py",
   "mimetype": "text/x-python",
   "name": "python",
   "nbconvert_exporter": "python",
   "pygments_lexer": "ipython3",
   "version": "3.11.4"
  },
  "orig_nbformat": 4
 },
 "nbformat": 4,
 "nbformat_minor": 2
}
